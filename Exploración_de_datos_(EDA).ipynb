{
  "nbformat": 4,
  "nbformat_minor": 0,
  "metadata": {
    "colab": {
      "provenance": [],
      "authorship_tag": "ABX9TyNj2GJSgBojG3E6CoOlDixc",
      "include_colab_link": true
    },
    "kernelspec": {
      "name": "python3",
      "display_name": "Python 3"
    },
    "language_info": {
      "name": "python"
    }
  },
  "cells": [
    {
      "cell_type": "markdown",
      "metadata": {
        "id": "view-in-github",
        "colab_type": "text"
      },
      "source": [
        "<a href=\"https://colab.research.google.com/github/Joaalbmed/IA-y-BD/blob/main/Exploraci%C3%B3n_de_datos_(EDA).ipynb\" target=\"_parent\"><img src=\"https://colab.research.google.com/assets/colab-badge.svg\" alt=\"Open In Colab\"/></a>"
      ]
    },
    {
      "cell_type": "markdown",
      "source": [
        "\n",
        "Q1. Pandas version\n",
        "\n",
        "What version of Pandas did you install?\n",
        "\n",
        "You can get the version information using the __version__ field:\n",
        "\n",
        "pd.__version__\n",
        "\n",
        "\n",
        "Getting the data\n",
        "\n",
        "For this homework, we'll use the Car Fuel Efficiency dataset. Download it from here.\n",
        "\n",
        "You can do it with wget:\n",
        "\n",
        "wget https://raw.githubusercontent.com/bigdatadatafan/datasets-clase/main/car_fuel_efficiency.csv\n",
        "\n",
        "\n",
        "\n",
        "Or just open it with your browser and click \"Save as...\".\n",
        "\n",
        "Now read it with Pandas.\n",
        "\n",
        "Q2. Records count\n",
        "\n",
        "How many records are in the dataset?\n",
        "\n",
        "    4704\n",
        "    8704\n",
        "    9704\n",
        "    17704\n",
        "\n",
        "Q3. Fuel types\n",
        "\n",
        "How many fuel types are presented in the dataset?\n",
        "\n",
        "    1\n",
        "    2\n",
        "    3\n",
        "    4\n",
        "\n",
        "Q4. Missing values\n",
        "\n",
        "How many columns in the dataset have missing values?\n",
        "\n",
        "    0\n",
        "    1\n",
        "    2\n",
        "    3\n",
        "    4\n",
        "\n",
        "Q5. Max fuel efficiency\n",
        "\n",
        "What's the maximum fuel efficiency of cars from Asia?\n",
        "\n",
        "    13.75\n",
        "    23.75\n",
        "    33.75\n",
        "    43.75\n",
        "\n",
        "Q6. Median value of horsepower\n",
        "\n",
        "    Find the median value of the horsepower column in the dataset.\n",
        "    Next, calculate the most frequent value of the same horsepower column.\n",
        "    Use the fillna method to fill the missing values in the horsepower column with the most frequent value from the previous step.\n",
        "    Now, calculate the median value of horsepower once again.\n",
        "\n",
        "Has it changed?\n",
        "\n",
        "    Yes, it increased\n",
        "    Yes, it decreased\n",
        "    No\n",
        "\n",
        "Q7. Sum of weights\n",
        "\n",
        "    Select all the cars from Asia\n",
        "    Select only columns vehicle_weight and model_year\n",
        "    Select the first 7 values\n",
        "    Get the underlying NumPy array. Let's call it X.\n",
        "    Compute matrix-matrix multiplication between the transpose of X and X. To get the transpose, use X.T. Let's call the result XTX.\n",
        "    Invert XTX.\n",
        "    Create an array y with values [1100, 1300, 800, 900, 1000, 1100, 1200].\n",
        "    Multiply the inverse of XTX with the transpose of X, and then multiply the result by y. Call the result w.\n",
        "    What's the sum of all the elements of the result?\n",
        "\n",
        "    Note: You just implemented linear regression. We'll talk about it in the next lesson.\n",
        "\n",
        "    0.051\n",
        "    0.51\n",
        "    5.1\n",
        "    51\n"
      ],
      "metadata": {
        "id": "1WbgjvpX-KHb"
      }
    },
    {
      "cell_type": "code",
      "execution_count": null,
      "metadata": {
        "colab": {
          "base_uri": "https://localhost:8080/"
        },
        "id": "_81EtEwH-GTS",
        "outputId": "ee2c9d2f-03fb-4f15-85db-4502375c9e71"
      },
      "outputs": [
        {
          "output_type": "stream",
          "name": "stdout",
          "text": [
            "Requirement already satisfied: pandas in /usr/local/lib/python3.12/dist-packages (2.2.2)\n",
            "Requirement already satisfied: numpy>=1.26.0 in /usr/local/lib/python3.12/dist-packages (from pandas) (2.0.2)\n",
            "Requirement already satisfied: python-dateutil>=2.8.2 in /usr/local/lib/python3.12/dist-packages (from pandas) (2.9.0.post0)\n",
            "Requirement already satisfied: pytz>=2020.1 in /usr/local/lib/python3.12/dist-packages (from pandas) (2025.2)\n",
            "Requirement already satisfied: tzdata>=2022.7 in /usr/local/lib/python3.12/dist-packages (from pandas) (2025.2)\n",
            "Requirement already satisfied: six>=1.5 in /usr/local/lib/python3.12/dist-packages (from python-dateutil>=2.8.2->pandas) (1.17.0)\n"
          ]
        }
      ],
      "source": [
        "\n",
        "!pip install pandas\n",
        "import pandas as pd"
      ]
    },
    {
      "cell_type": "code",
      "source": [
        "pd.__version__"
      ],
      "metadata": {
        "colab": {
          "base_uri": "https://localhost:8080/",
          "height": 35
        },
        "id": "D6anErU1-J9M",
        "outputId": "a7e8cec1-4a7f-43c2-afb5-41f1a7a7954e"
      },
      "execution_count": null,
      "outputs": [
        {
          "output_type": "execute_result",
          "data": {
            "text/plain": [
              "'2.2.2'"
            ],
            "application/vnd.google.colaboratory.intrinsic+json": {
              "type": "string"
            }
          },
          "metadata": {},
          "execution_count": 29
        }
      ]
    },
    {
      "cell_type": "code",
      "source": [
        "!wget https://raw.githubusercontent.com/bigdatadatafan/datasets-clase/main/car_fuel_efficiency.csv"
      ],
      "metadata": {
        "colab": {
          "base_uri": "https://localhost:8080/"
        },
        "id": "e2UO61BO_JFE",
        "outputId": "1b8673fd-f76d-483d-a0aa-f69c4122174a"
      },
      "execution_count": null,
      "outputs": [
        {
          "output_type": "stream",
          "name": "stdout",
          "text": [
            "--2025-10-15 18:04:28--  https://raw.githubusercontent.com/bigdatadatafan/datasets-clase/main/car_fuel_efficiency.csv\n",
            "Resolving raw.githubusercontent.com (raw.githubusercontent.com)... 185.199.108.133, 185.199.110.133, 185.199.109.133, ...\n",
            "Connecting to raw.githubusercontent.com (raw.githubusercontent.com)|185.199.108.133|:443... connected.\n",
            "HTTP request sent, awaiting response... 200 OK\n",
            "Length: 874188 (854K) [text/plain]\n",
            "Saving to: ‘car_fuel_efficiency.csv.2’\n",
            "\n",
            "\r          car_fuel_   0%[                    ]       0  --.-KB/s               \rcar_fuel_efficiency 100%[===================>] 853.70K  --.-KB/s    in 0.01s   \n",
            "\n",
            "2025-10-15 18:04:28 (82.4 MB/s) - ‘car_fuel_efficiency.csv.2’ saved [874188/874188]\n",
            "\n"
          ]
        }
      ]
    },
    {
      "cell_type": "markdown",
      "metadata": {
        "id": "6964083e"
      },
      "source": [
        "# Task\n",
        "Write Python code to answer the questions in the text block using the data from the \"car_fuel_efficiency.csv\" file."
      ]
    },
    {
      "cell_type": "markdown",
      "metadata": {
        "id": "54f41eb6"
      },
      "source": [
        "## Load the data\n",
        "\n",
        "### Subtask:\n",
        "Read the `car_fuel_efficiency.csv` file into a pandas DataFrame.\n"
      ]
    },
    {
      "cell_type": "markdown",
      "metadata": {
        "id": "0b75d655"
      },
      "source": [
        "**Reasoning**:\n",
        "Read the CSV file into a pandas DataFrame as instructed.\n",
        "\n"
      ]
    },
    {
      "cell_type": "code",
      "metadata": {
        "id": "90d06d0e"
      },
      "source": [
        "df = pd.read_csv('car_fuel_efficiency.csv')"
      ],
      "execution_count": null,
      "outputs": []
    },
    {
      "cell_type": "markdown",
      "metadata": {
        "id": "76b70261"
      },
      "source": [
        "## Answer q2\n",
        "\n",
        "### Subtask:\n",
        "Determine the number of records in the dataset.\n"
      ]
    },
    {
      "cell_type": "markdown",
      "metadata": {
        "id": "36827793"
      },
      "source": [
        "**Reasoning**:\n",
        "Get the number of rows in the DataFrame `df`.\n",
        "\n"
      ]
    },
    {
      "cell_type": "code",
      "metadata": {
        "colab": {
          "base_uri": "https://localhost:8080/"
        },
        "id": "f5af6ecf",
        "outputId": "664bfedf-5f4a-4f50-d05f-676ca7dcf815"
      },
      "source": [
        "len(df)"
      ],
      "execution_count": null,
      "outputs": [
        {
          "output_type": "execute_result",
          "data": {
            "text/plain": [
              "9704"
            ]
          },
          "metadata": {},
          "execution_count": 32
        }
      ]
    },
    {
      "cell_type": "markdown",
      "metadata": {
        "id": "7595f6f1"
      },
      "source": [
        "## Answer q3\n",
        "\n",
        "### Subtask:\n",
        "Identify and count the unique fuel types in the dataset.\n"
      ]
    },
    {
      "cell_type": "markdown",
      "metadata": {
        "id": "b8f5a3d4"
      },
      "source": [
        "**Reasoning**:\n",
        "Select the 'fuel_type' column and count the number of unique values using nunique().\n",
        "\n"
      ]
    },
    {
      "cell_type": "code",
      "metadata": {
        "colab": {
          "base_uri": "https://localhost:8080/"
        },
        "id": "fda07388",
        "outputId": "1f6fefae-2481-4076-d5eb-c671c72e8b10"
      },
      "source": [
        "num_fuel_types = df['fuel_type'].nunique()\n",
        "print(num_fuel_types)"
      ],
      "execution_count": null,
      "outputs": [
        {
          "output_type": "stream",
          "name": "stdout",
          "text": [
            "2\n"
          ]
        }
      ]
    },
    {
      "cell_type": "markdown",
      "metadata": {
        "id": "e454535c"
      },
      "source": [
        "## Answer q4\n",
        "\n",
        "### Subtask:\n",
        "Find and count the columns that contain missing values.\n"
      ]
    },
    {
      "cell_type": "markdown",
      "metadata": {
        "id": "969d2723"
      },
      "source": [
        "**Reasoning**:\n",
        "Use isnull() and sum() to count missing values per column, then filter for columns with more than 0 missing values and count them.\n",
        "\n"
      ]
    },
    {
      "cell_type": "code",
      "metadata": {
        "colab": {
          "base_uri": "https://localhost:8080/"
        },
        "id": "e31f2bbd",
        "outputId": "5ac5f2c1-6c9c-4682-e070-30628988b098"
      },
      "source": [
        "missing_values = df.isnull().sum()\n",
        "columns_with_missing_values = missing_values[missing_values > 0]\n",
        "num_columns_with_missing_values = len(columns_with_missing_values)\n",
        "print(num_columns_with_missing_values)"
      ],
      "execution_count": null,
      "outputs": [
        {
          "output_type": "stream",
          "name": "stdout",
          "text": [
            "4\n"
          ]
        }
      ]
    },
    {
      "cell_type": "markdown",
      "metadata": {
        "id": "0fd94922"
      },
      "source": [
        "## Answer q5\n",
        "\n",
        "### Subtask:\n",
        "Calculate the maximum fuel efficiency for cars from Asia.\n"
      ]
    },
    {
      "cell_type": "markdown",
      "metadata": {
        "id": "bd639e14"
      },
      "source": [
        "**Reasoning**:\n",
        "Filter the DataFrame for cars from Asia and calculate the maximum fuel efficiency.\n",
        "\n"
      ]
    },
    {
      "cell_type": "code",
      "metadata": {
        "colab": {
          "base_uri": "https://localhost:8080/"
        },
        "id": "4d8c7d60",
        "outputId": "f008798d-f6ff-4c61-c8b6-b3df5840bad8"
      },
      "source": [
        "asia_cars = df[df['origin'] == 'Asia']\n",
        "max_fuel_efficiency_asia = asia_cars['fuel_efficiency_mpg'].max()\n",
        "print(max_fuel_efficiency_asia)"
      ],
      "execution_count": null,
      "outputs": [
        {
          "output_type": "stream",
          "name": "stdout",
          "text": [
            "23.759122836520497\n"
          ]
        }
      ]
    },
    {
      "cell_type": "markdown",
      "metadata": {
        "id": "3f221dba"
      },
      "source": [
        "## Answer q6\n",
        "\n",
        "### Subtask:\n",
        "Calculate and compare the median horsepower before and after filling missing values with the mode.\n"
      ]
    },
    {
      "cell_type": "markdown",
      "metadata": {
        "id": "0c3c177a"
      },
      "source": [
        "**Reasoning**:\n",
        "Calculate the median and mode of the 'horsepower' column, fill missing values with the mode, calculate the new median, and compare the two medians.\n",
        "\n"
      ]
    },
    {
      "cell_type": "code",
      "metadata": {
        "colab": {
          "base_uri": "https://localhost:8080/"
        },
        "id": "fd18fae0",
        "outputId": "c1c61927-3ae4-4999-8990-394d37a17764"
      },
      "source": [
        "median_horsepower_before = df['horsepower'].median()\n",
        "mode_horsepower = df['horsepower'].mode()[0]\n",
        "df['horsepower'] = df['horsepower'].fillna(mode_horsepower)\n",
        "median_horsepower_after = df['horsepower'].median()\n",
        "\n",
        "if median_horsepower_after > median_horsepower_before:\n",
        "    change = \"Yes, it increased\"\n",
        "elif median_horsepower_after < median_horsepower_before:\n",
        "    change = \"Yes, it decreased\"\n",
        "else:\n",
        "    change = \"No\"\n",
        "\n",
        "print(f\"Median horsepower before filling missing values: {median_horsepower_before}\")\n",
        "print(f\"Mode of horsepower: {mode_horsepower}\")\n",
        "print(f\"Median horsepower after filling missing values: {median_horsepower_after}\")\n",
        "print(f\"Has the median changed? {change}\")"
      ],
      "execution_count": null,
      "outputs": [
        {
          "output_type": "stream",
          "name": "stdout",
          "text": [
            "Median horsepower before filling missing values: 149.0\n",
            "Mode of horsepower: 152.0\n",
            "Median horsepower after filling missing values: 152.0\n",
            "Has the median changed? Yes, it increased\n"
          ]
        }
      ]
    },
    {
      "cell_type": "markdown",
      "metadata": {
        "id": "91b1548b"
      },
      "source": [
        "## Answer q7\n",
        "\n",
        "### Subtask:\n",
        "Perform the specified linear regression steps for cars from Asia using the `vehicle_weight` and `model_year` columns and calculate the sum of the elements in the resulting vector `w`.\n"
      ]
    },
    {
      "cell_type": "markdown",
      "metadata": {
        "id": "1a66145c"
      },
      "source": [
        "**Reasoning**:\n",
        "Perform the linear regression steps and calculate the sum of the elements in the resulting vector w.\n",
        "\n"
      ]
    },
    {
      "cell_type": "code",
      "metadata": {
        "colab": {
          "base_uri": "https://localhost:8080/"
        },
        "id": "26800f76",
        "outputId": "44b45d63-152a-4c4b-e514-c61eddc6bb9c"
      },
      "source": [
        "import numpy as np\n",
        "\n",
        "asia_cars_q7 = df[df['origin'] == 'Asia']\n",
        "X_df = asia_cars_q7[['vehicle_weight', 'model_year']]\n",
        "X = X_df.head(7).to_numpy()\n",
        "y = np.array([1100, 1300, 800, 900, 1000, 1100, 1200])\n",
        "XT = X.T\n",
        "XTX = XT @ X\n",
        "XTX_inv = np.linalg.inv(XTX)\n",
        "intermediate_result = XTX_inv @ XT\n",
        "w = intermediate_result @ y\n",
        "sum_w = np.sum(w)\n",
        "print(sum_w)"
      ],
      "execution_count": null,
      "outputs": [
        {
          "output_type": "stream",
          "name": "stdout",
          "text": [
            "0.5187709081074016\n"
          ]
        }
      ]
    },
    {
      "cell_type": "markdown",
      "metadata": {
        "id": "e7d293c1"
      },
      "source": [
        "## Summary:\n",
        "\n",
        "### Q&A\n",
        "\n",
        "1.  **Number of records in the dataset:** There are 9704 records in the dataset.\n",
        "2.  **Unique fuel types:** There are 2 unique fuel types in the dataset.\n",
        "3.  **Columns with missing values:** There are 4 columns with missing values.\n",
        "4.  **Maximum fuel efficiency for cars from Asia:** The maximum fuel efficiency for cars from Asia is approximately 23.76 MPG.\n",
        "5.  **Change in median horsepower after filling missing values with the mode:** The median horsepower increased from 149.0 to 152.0 after filling missing values with the mode.\n",
        "6.  **Sum of the elements in the resulting vector `w` from the linear regression:** The sum of the elements in the vector `w` is approximately 0.5188.\n",
        "\n",
        "### Data Analysis Key Findings\n",
        "\n",
        "*   The dataset contains 9704 records.\n",
        "*   There are 2 unique fuel types present in the dataset.\n",
        "*   Four columns in the dataset contain missing values.\n",
        "*   The maximum fuel efficiency observed for cars originating from Asia is 23.76 MPG.\n",
        "*   Imputing missing values in the 'horsepower' column with the mode (152.0) resulted in an increase in the median horsepower from 149.0 to 152.0.\n",
        "*   A linear regression performed on a subset of Asian cars using 'vehicle\\_weight' and 'model\\_year' resulted in a weight vector `w` whose elements sum to approximately 0.5188.\n",
        "\n",
        "### Insights or Next Steps\n",
        "\n",
        "*   Investigate the columns with missing values to determine the best strategy for handling them (e.g., imputation, removal) based on the nature of the data and the analysis goals.\n",
        "*   Explore the characteristics of the two unique fuel types and their distribution within the dataset.\n"
      ]
    }
  ]
}